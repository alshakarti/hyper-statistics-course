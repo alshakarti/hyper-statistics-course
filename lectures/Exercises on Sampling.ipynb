{
 "cells": [
  {
   "cell_type": "markdown",
   "id": "7e7107b0-ea4e-4dcb-a2e9-217fc76683f6",
   "metadata": {},
   "source": [
    "### Q1 CLT applied to sample proportions\n",
    "\n",
    "The histogram shows the sample proportion (P hat) of a sample of 100 observations. To see how it varies, disable the code with the seed(999) and rerun the cell a few times. To get a feel for the variation, increase the nr of samples from 1 to 10, 40, 1000 and 100000. What does the distribution of the different sample proportions look like? Try changing the sample size as well."
   ]
  },
  {
   "cell_type": "code",
   "execution_count": 29,
   "id": "09c48db2",
   "metadata": {},
   "outputs": [],
   "source": [
    "import numpy as np\n",
    "import matplotlib.pyplot as plt\n",
    "import numpy as np\n",
    "from scipy import stats"
   ]
  },
  {
   "cell_type": "code",
   "execution_count": null,
   "id": "52ff9417-b754-4abe-8009-fe5fe909a234",
   "metadata": {
    "tags": []
   },
   "outputs": [
    {
     "data": {
      "image/png": "[encoded data removed]",
      "text/plain": [
       "<Figure size 640x480 with 1 Axes>"
      ]
     },
     "metadata": {},
     "output_type": "display_data"
    }
   ],
   "source": [
    "#np.random.seed(999)\n",
    "\n",
    "n = 100\n",
    "P = 0.5\n",
    "nr_of_samples = 10000\n",
    "\n",
    "\n",
    "# Try different number of samples to illustrate CLT\n",
    "sample_proportions = np.random.binomial(n, P, nr_of_samples) / n\n",
    "\n",
    "plt.hist(sample_proportions, bins=100, edgecolor='black')\n",
    "plt.title('Histogram of Samples')\n",
    "plt.xlabel('Proportion')\n",
    "plt.ylabel('Frequency')\n",
    "plt.show()"
   ]
  },
  {
   "cell_type": "markdown",
   "id": "4bb178dd-807e-40ed-a8b0-6bc5b14577b6",
   "metadata": {
    "tags": []
   },
   "source": [
    "### Population mean speed using t distribution (2 ways)\n",
    "\n",
    "(this is example code used for Q2 below)\n",
    "\n",
    "There is concern about the speed of automobiles traveling over a particular stretch of highway. For a random sample of 28 automobiles, radar indicated the following speeds, in miles per hour:\n",
    "\n",
    "59, 63, 68, 57, 56, 71, 59, \\\n",
    "69, 53, 58, 60, 66, 51, 59, \\\n",
    "54, 64, 58, 57, 66, 61, 65, \\\n",
    "70, 63, 65, 57, 56, 61, 59\n",
    "\n",
    "Assuming a normal population distribution, find the margin of error of a 95% confidence interval for the mean speed of all automobiles traveling over this stretch of highway."
   ]
  },
  {
   "cell_type": "code",
   "execution_count": 30,
   "id": "c9ca03a8-b485-4a34-a900-ea54ec1780a3",
   "metadata": {
    "tags": []
   },
   "outputs": [
    {
     "name": "stdout",
     "output_type": "stream",
     "text": [
      "Mean: 60.89\n",
      "Margin of Error: 2.03\n",
      "95% Confidence Interval: (58.86, 62.92)\n"
     ]
    }
   ],
   "source": [
    "sample = [59, 63, 68, 57, 56, 71, 59, \n",
    "          69, 53, 58, 60, 66, 51, 59, \n",
    "          54, 64, 58, 57, 66, 61, 65, \n",
    "          70, 63, 65, 57, 56, 61, 59]\n",
    "\n",
    "n = len(sample)\n",
    "m = np.mean(sample)\n",
    "s = np.std(sample, ddof=1)\n",
    "t = stats.t.ppf(0.975, n-1)\n",
    "standard_error = s / np.sqrt(n)\n",
    "\n",
    "ME = t * standard_error\n",
    "\n",
    "LCL = m - ME\n",
    "UCL = m + ME\n",
    "\n",
    "print(f\"Mean: {m:.2f}\")\n",
    "print(f\"Margin of Error: {ME:.2f}\")\n",
    "print(f\"95% Confidence Interval: ({LCL:.2f}, {UCL:.2f})\")"
   ]
  },
  {
   "cell_type": "code",
   "execution_count": null,
   "id": "4b16666c-9531-4423-a4c6-225f80cfcfed",
   "metadata": {
    "tags": []
   },
   "outputs": [
    {
     "name": "stdout",
     "output_type": "stream",
     "text": [
      "Mean: 60.89\n",
      "Margin of Error: 2.03\n",
      "95% Confidence Interval: (58.86466854310182, 62.92104574261247)\n"
     ]
    }
   ],
   "source": [
    "# note to self: this is the best method for me since we are leveraging the built-in functions hence reducing the chances of human errors\n",
    "\n",
    "sample = [59, 63, 68, 57, 56, 71, 59, \n",
    "          69, 53, 58, 60, 66, 51, 59, \n",
    "          54, 64, 58, 57, 66, 61, 65, \n",
    "          70, 63, 65, 57, 56, 61, 59]\n",
    "\n",
    "n = len(sample)\n",
    "m = np.mean(sample)\n",
    "s = np.std(sample, ddof=1)\n",
    "standard_error = s/np.sqrt(n)\n",
    "\n",
    "\n",
    "# Using built-in function\n",
    "CI = stats.t.interval(0.95, n-1, loc=m, scale=standard_error)\n",
    "\n",
    "print(f\"Mean: {m:.2f}\")\n",
    "print(f\"Margin of Error: {ME:.2f}\")\n",
    "print(f\"95% Confidence Interval: {CI}\")"
   ]
  },
  {
   "cell_type": "markdown",
   "id": "7b5c9601-3b07-4f1a-b9bc-b4e0cd00630b",
   "metadata": {},
   "source": [
    "### Q2 Population mean speed using CLT - normal distribution (2 ways)\n",
    "\n",
    "Same context as before but apply a normal distribution to the sample mean. find the margin of error of a 95% confidence interval for the mean speed of all automobiles traveling over this stretch of highway.\n",
    "\n",
    "Complete the code below in both cells. The context and set up is the same as the two cells above, but now a normal distribution is used instead of the t distribution."
   ]
  },
  {
   "cell_type": "code",
   "execution_count": 31,
   "id": "ccea7fee-d357-4379-bb65-fb3c50a160e2",
   "metadata": {
    "tags": []
   },
   "outputs": [
    {
     "name": "stdout",
     "output_type": "stream",
     "text": [
      "Mean: 60.89\n",
      "Margin of Error: 2.03\n",
      "95% Confidence Interval: (58.86, 62.92)\n"
     ]
    }
   ],
   "source": [
    "sample = [59, 63, 68, 57, 56, 71, 59, \n",
    "          69, 53, 58, 60, 66, 51, 59, \n",
    "          54, 64, 58, 57, 66, 61, 65, \n",
    "          70, 63, 65, 57, 56, 61, 59]\n",
    "\n",
    "n = len(sample)\n",
    "m = np.mean(sample)\n",
    "s = np.std(sample, ddof=1)\n",
    "z = stats.t.ppf(0.975, n-1)\n",
    "standard_error = s/np.sqrt(n)\n",
    "\n",
    "ME = t * standard_error\n",
    "\n",
    "LCL = m - ME\n",
    "UCL = m + ME\n",
    "\n",
    "print(f\"Mean: {m:.2f}\")\n",
    "print(f\"Margin of Error: {ME:.2f}\")\n",
    "print(f\"95% Confidence Interval: ({LCL:.2f}, {UCL:.2f})\")"
   ]
  },
  {
   "cell_type": "code",
   "execution_count": 35,
   "id": "6feba7df-286e-44cc-8736-8491e132b19e",
   "metadata": {
    "tags": []
   },
   "outputs": [
    {
     "name": "stdout",
     "output_type": "stream",
     "text": [
      "Mean: 60.89\n",
      "Margin of error:2.03\n",
      "95% Confidence Interval: (58.86466854310182, 62.92104574261247)\n"
     ]
    }
   ],
   "source": [
    "sample = [59, 63, 68, 57, 56, 71, 59, \n",
    "          69, 53, 58, 60, 66, 51, 59, \n",
    "          54, 64, 58, 57, 66, 61, 65, \n",
    "          70, 63, 65, 57, 56, 61, 59]\n",
    "\n",
    "n = len(sample)\n",
    "m = np.mean(sample)\n",
    "s = np.std(sample, ddof=1)\n",
    "standard_error = s/np.sqrt(n)\n",
    "\n",
    "ME = t * standard_error\n",
    "\n",
    "# Using built-in function\n",
    "CI = stats.t.interval(0.95, n-1, loc=m, scale=standard_error)\n",
    "\n",
    "print(f'Mean: {m:.2f}')\n",
    "print(f'Margin of error:{ME:.2f}')\n",
    "print(f'95% Confidence Interval: {CI}')"
   ]
  },
  {
   "cell_type": "markdown",
   "id": "8dc27e75-cb64-4f26-93e2-6884da70a483",
   "metadata": {},
   "source": [
    "### Q3 Confidence Interval for the Population Proportion\n",
    "\n",
    "In a random sample of 95 manufacturing firms, 67 indicated that their companies attained ISO certification within the last two years. Find a 99% confidence interval for the population proportion of companies that have been certified within the last 2 years.\n",
    "\n",
    "Complete the code below and make sure the settings are correct. Compare your answer to the (alternative) code in the second cell."
   ]
  },
  {
   "cell_type": "code",
   "execution_count": 48,
   "id": "a34361d8-298e-4d27-81fe-fdbbab74c597",
   "metadata": {
    "tags": []
   },
   "outputs": [
    {
     "name": "stdout",
     "output_type": "stream",
     "text": [
      "99% Confidence Interval: (0.58, 0.83)\n"
     ]
    }
   ],
   "source": [
    "x = 67\n",
    "n = 95\n",
    "p_hat = x / n\n",
    "\n",
    "alpha = 0.01\n",
    "\n",
    "standard_error = np.sqrt(p_hat * (1 - p_hat) / n)\n",
    "confidence_level = 1-alpha/2\n",
    "z = stats.norm.ppf(confidence_level)\n",
    "\n",
    "ME = z * standard_error\n",
    "\n",
    "LCL = p_hat - ME\n",
    "UCL = p_hat + ME\n",
    "\n",
    "print(f\"99% Confidence Interval: ({LCL:.2f}, {UCL:.2f})\")"
   ]
  },
  {
   "cell_type": "code",
   "execution_count": 43,
   "id": "02e2b102-52cc-45e1-a8a8-0f989b27d54c",
   "metadata": {
    "tags": []
   },
   "outputs": [
    {
     "name": "stdout",
     "output_type": "stream",
     "text": [
      "Built-in function CI: (0.5848, 0.8258)\n"
     ]
    }
   ],
   "source": [
    "from statsmodels.stats.proportion import proportion_confint\n",
    "\n",
    "x = 67\n",
    "n = 95\n",
    "\n",
    "# Using built-in function\n",
    "LCL, UCL = proportion_confint(x, n, alpha=0.01, method='normal')\n",
    "print(f\"Built-in function CI: ({LCL:.4f}, {UCL:.4f})\")"
   ]
  },
  {
   "cell_type": "markdown",
   "id": "c204d0c4-2e17-4e6b-bfee-fe99bea5f24b",
   "metadata": {},
   "source": [
    "### Q4 Confidence Interval for two Population means\n",
    "\n",
    "Write code that gives two confidence intervals for the population mean. One for each sample. You choose the confidence level (use the same on for both). Can you draw any conclusions based on your results?  "
   ]
  },
  {
   "cell_type": "code",
   "execution_count": 52,
   "id": "4b9245e1-9f35-498d-a51c-928d814f842d",
   "metadata": {
    "tags": []
   },
   "outputs": [
    {
     "name": "stdout",
     "output_type": "stream",
     "text": [
      "95% Confidence Interval for x: (40.84, 80.95)\n",
      "95% Confidence Interval for y: (32.27, 83.48)\n"
     ]
    }
   ],
   "source": [
    "# Ratio of two variances\n",
    "x = [59, 63, 68, 57, 56, 71, 59, \n",
    "     69, 53, 58, 60, 66, 51, 59, \n",
    "     54, 64, 58, 57, 66, 61, 65, \n",
    "     70, 63, 65, 57, 56, 61, 59,\n",
    "     59, 63, 68, 57, 56, 71, 59, \n",
    "     69, 53, 58, 60, 66, 51, 59, \n",
    "     54, 64, 58, 57, 66, 61, 65, \n",
    "     70, 63, 65, 57, 56, 61, 59]\n",
    "\n",
    "y = [55, 53, 58, 57, 56, 51, 49, \n",
    "     49, 53, 68, 57, 46, 51, 45, \n",
    "     54, 64, 58, 57, 66, 61, 65, \n",
    "     70, 63, 65, 57, 56, 61, 59,\n",
    "     59, 63, 68, 57, 56, 71, 59, \n",
    "     69, 53, 58, 60, 66, 51, 59,\n",
    "     59, 53, 68, 57, 56, 61, 45, \n",
    "     55, 63, 58, 67, 46, 51, 49]\n",
    "\n",
    "n1 = len(x)\n",
    "n2 = len(y)\n",
    "\n",
    "m1 = np.mean(x)\n",
    "m2 = np.mean(y)\n",
    "\n",
    "s1 = np.std(x, ddof=1)\n",
    "s2 = np.std(y, ddof=1)\n",
    "\n",
    "z = stats.norm.ppf(0.975, n-1)\n",
    "\n",
    "standard_error1 = s1 / np.sqrt(n1)\n",
    "standard_error2 = s2 / np.sqrt(n2)\n",
    "\n",
    "ME1 = z * standard_error1\n",
    "ME2 = z * standard_error2\n",
    "\n",
    "LCL1 = m1 - ME1\n",
    "UCL1 = m1 + ME1\n",
    "\n",
    "LCL2 = m2 - ME2\n",
    "UCL2 = m2 + ME2\n",
    "\n",
    "print(f\"95% Confidence Interval for x: ({LCL1:.2f}, {UCL1:.2f})\")\n",
    "print(f\"95% Confidence Interval for y: ({LCL2:.2f}, {UCL2:.2f})\")"
   ]
  }
 ],
 "metadata": {
  "kernelspec": {
   "display_name": "base",
   "language": "python",
   "name": "python3"
  },
  "language_info": {
   "codemirror_mode": {
    "name": "ipython",
    "version": 3
   },
   "file_extension": ".py",
   "mimetype": "text/x-python",
   "name": "python",
   "nbconvert_exporter": "python",
   "pygments_lexer": "ipython3",
   "version": "3.12.7"
  }
 },
 "nbformat": 4,
 "nbformat_minor": 5
}
